{
 "cells": [
  {
   "cell_type": "markdown",
   "id": "45762487-d33f-486d-8e38-2cdea04e3528",
   "metadata": {},
   "source": [
    "# Metadata\n",
    "\n",
    "* Title: **Final Project Report**\n",
    "* Class: DS 5100\n",
    "* Date: 7/11/22\n",
    "* Student Name: Dominick DeCanio\n",
    "* Student Net ID: dcd9ce\n",
    "* This URL: https://github.com/domdecanio/montecarlo/main/Package-Writeup.ipynb\n",
    "* GitHub Repo URL: https://github.com/domdecanio/montecarlo"
   ]
  },
  {
   "cell_type": "markdown",
   "id": "d32cb273-9a40-4909-a7ce-51f6e4958d3c",
   "metadata": {},
   "source": [
    "# The Monte Carlo Module"
   ]
  },
  {
   "cell_type": "code",
   "execution_count": 1,
   "id": "a0743efc-a785-4b5c-a9e6-b65d4507a67f",
   "metadata": {},
   "outputs": [],
   "source": [
    "import numpy as np\n",
    "import pandas as pd\n",
    "\n",
    "\n",
    "\n",
    "## Die Class ##\n",
    "\n",
    "\n",
    "\n",
    "class Die():\n",
    "    \"\"\"\n",
    "    A class used to represent a die whose faces are customizable, and can be rolled.\n",
    "    \n",
    "    Attributes\n",
    "    ----------\n",
    "    faces : list\n",
    "        A list of the faces of the corresponding \"Die\" object\n",
    "    weights : ndarray\n",
    "        Array of weights, where the index of the \"weights\" array corresponds to the index of the \n",
    "        \"faces\" list.\n",
    "    \n",
    "    Methods\n",
    "    ------\n",
    "    __init__(n)\n",
    "        Initializes the \"Die\" object using a list of faces \"n\".\n",
    "    change_weights(face_value, new_weight)\n",
    "        Alters the weight(s) of given face(s).\n",
    "    roll(num_rolls=1)\n",
    "        Rolls the \"Die\" object a given number of times (default once).\n",
    "    show()\n",
    "        Returns the private pd.Dataframe containing the faces and corresponding weights of the \n",
    "        \"Die\" object.\n",
    "    \"\"\"\n",
    "    def __init__(self, n):\n",
    "        \"\"\"\n",
    "        Purpose: This method initializes \"Die\" objects that can be rolled to generate a face of the die.\n",
    "\n",
    "        Inupts: n - (list) This is a list composed of str or int values, which indicate the number of \n",
    "                           sides on the die.\n",
    "        Output: (\"Die\" object) \"Die\" object which has len(n) number of sides\n",
    "        \"\"\"\n",
    "        counter = 0\n",
    "        for i in n:\n",
    "            try:\n",
    "                assert isinstance(i, str) == True or \\\n",
    "                    (isinstance(i, int) == True and isinstance(i, bool) != True)\n",
    "                counter += 1\n",
    "            except:\n",
    "                self.init_error = \"Error - Input for argument 'n' is not of type: str or int\"\n",
    "                print(\"Error - Input for argument 'n' is not of type: str or int\")\n",
    "        if counter == len(n):\n",
    "            self.faces = n\n",
    "            self.weights = np.ones_like(self.faces, dtype = np.float64)\n",
    "            self.__private_df = pd.DataFrame({'face': self.faces, 'weights': self.weights})\n",
    "    \n",
    "    def change_weights(self, face_value, new_weight):\n",
    "        \"\"\"\n",
    "        Purpose: This method allows the user to change the weights of the die after it has \n",
    "                 been initialized.\n",
    "        \n",
    "        Inputs: face_value - (str or int) The face of the die object to which you will assign a new weight.\n",
    "                new_weight - (int) The new weight for this face.\n",
    "        Output: (None) Weights are changed in the object's attribute.\n",
    "        \"\"\"\n",
    "        if isinstance(face_value, list):\n",
    "            for index, value in enumerate(face_value):\n",
    "                if value in self.__private_df['face'].values:\n",
    "                    if isinstance(new_weight[index], float) != True:\n",
    "                        try:\n",
    "                            new_weight[index] = float(new_weight[index])\n",
    "                            self.__private_df.loc[self.__private_df['face'] == value, 'weights'] = new_weight[index]\n",
    "                        except:\n",
    "                            print('Error - The weight passed is invalid. It is not a float, and cannot be converted to be one.')\n",
    "                    else:\n",
    "                        self.__private_df.loc[self.__private_df['face'] == value, 'weights'] = new_weight[index]        \n",
    "                else: \n",
    "                    print('Error - The face value passed is invalid. It is not a valid face on the die.')\n",
    "        else:\n",
    "            if face_value in self.__private_df['face'].values:\n",
    "                if isinstance(new_weight, float) != True:\n",
    "                    try:\n",
    "                        new_weight = float(new_weight)\n",
    "                        self.__private_df.loc[self.__private_df['face'] == face_value, 'weights'] = new_weight\n",
    "                    except:\n",
    "                        print('Error - The weight passed is invalid. It is not a float, and cannot be converted to be one.')\n",
    "                else:\n",
    "                    self.__private_df.loc[self.__private_df['face'] == face_value, 'weights'] = new_weight        \n",
    "            else: \n",
    "                print('Error - The face value passed is invalid. It is not a valid face on the die.')\n",
    "      \n",
    "    def roll(self, num_rolls=1):\n",
    "        \"\"\"\n",
    "        Purpose: This method allows the user to roll the die 1 or more times.\n",
    "        \n",
    "        Input: num_rolls - (int) Default value is 1. This argument indicates the number of times the die\n",
    "                                 object will be rolled.\n",
    "        Output: (list) Output is a list of values corresponding to the results of your rolls.\n",
    "        \"\"\"\n",
    "        return (self.__private_df['face'].sample(n=num_rolls, replace=True, weights=self.__private_df['weights'])).tolist()\n",
    "    \n",
    "    def show(self):\n",
    "        \"\"\"\n",
    "        Purpose: This method shows the user the df containing the faces and weights.\n",
    "        \n",
    "        Input: (None)\n",
    "        Output: (pd.DataFrame) Output returns the dataframe containing the die's face values and weights.\n",
    "        \"\"\"\n",
    "        return self.__private_df\n",
    "    \n",
    "    \n",
    "    \n",
    "## Game Class ##\n",
    "    \n",
    "    \n",
    "    \n",
    "class Game():\n",
    "    \"\"\"\n",
    "    A class used to represent a game of rolling many dice. Note that all dice in a single game must have \n",
    "    the same values and number of faces. They are NOT required to have the same weights for their faces.\n",
    "    \n",
    "    Attributes\n",
    "    ----------\n",
    "    dice_faces : list\n",
    "        A list of the faces of the \"Die\" objects therein\n",
    "    dice : list\n",
    "        Array of weights, where the index of the \"weights\" array corresponds to the index of the \n",
    "        \"faces\" list.\n",
    "    \n",
    "    Methods\n",
    "    ------\n",
    "    __init__(dice)\n",
    "        Initializes a \"Game\" object using a list of \"Dice\" objects in the parameter \"dice\".\n",
    "    play(num_rolls)\n",
    "        Rolls the given list of dice objects a customizable number of time.\n",
    "    show(df_format=\"wide\")\n",
    "        Shows the user the results of the most recently played game.\n",
    "    \"\"\"\n",
    "    def __init__(self, dice):\n",
    "        \"\"\"\n",
    "        Purpose: Initialize a \"Game\" object.\n",
    "        \n",
    "        Inupts: dice - (list) A list composed of \"Die\" objects, which indicate the number of dice \n",
    "                              to be rolled each time the game is played. \n",
    "                        NOTE: All \"Die\" objects included in this list must have the same value and\n",
    "                              number of faces.\n",
    "        Output: (\"Game\" object) \"Game\" object which is composed of len(dice) number of \"Die\" objects.\n",
    "        \"\"\"\n",
    "        self.dice_faces = dice[0].faces\n",
    "        self.dice = dice\n",
    "        \n",
    "    def play(self, num_rolls):\n",
    "        \"\"\"\n",
    "        Purpose: Generate outcomes of a given quantity of rolls of the given dice objects.\n",
    "        \n",
    "        Input: num_rolls - (int) Indicates the number of times the dice will be rolled.\n",
    "        Output: (None) Results are stored in a private pd.Dataframe that is an attribute of the \n",
    "                       \"Game\" object.\n",
    "        \"\"\"\n",
    "        try:\n",
    "            assert isinstance(num_rolls, int) == True\n",
    "            self.num_rolls = num_rolls\n",
    "            self.__private_play_result_df = pd.DataFrame([x.roll(num_rolls) for x in self.dice])\n",
    "        except:\n",
    "            print('Error - The argument entered for \"num_rolls\" must be an integer.')\n",
    "\n",
    "    def show(self, df_format=\"wide\"):\n",
    "        \"\"\"\n",
    "        Purpose: Show the user the results of the most recently played game.\n",
    "        \n",
    "        Input: df_format - (\"wide\" or \"narrow\") Chooses the format in which the dataframe of results \n",
    "                                                will display.\n",
    "        Output: (pd.DataFrame) The Dataframe object containing the results of the most recently played \n",
    "                               game.\n",
    "        \"\"\"\n",
    "        if df_format == \"wide\":\n",
    "            return self.__private_play_result_df.T\n",
    "        elif df_format == \"narrow\":\n",
    "            return self.__private_play_result_df.stack()\n",
    "        else:\n",
    "            print('Error - The argument entered for \"df_format\" is invalid')\n",
    "    \n",
    "\n",
    "    \n",
    "## Analyzer Class ##\n",
    "\n",
    "\n",
    "\n",
    "class Analyzer():\n",
    "    \"\"\"\n",
    "    A class used to analyze a \"Game\" object. \n",
    "    \n",
    "    Attributes\n",
    "    ----------\n",
    "    dice_faces : list\n",
    "        List of the faces of the dice used in the \"Game\" object to be analyzed.\n",
    "    game_df : pd.DataFrame\n",
    "        Dataframe containing the results of the most recently played game of the \"Game\" object.\n",
    "    \n",
    "    Methods\n",
    "    ------\n",
    "    __init__(game_object)\n",
    "        Initializes an \"Analyzer\" object using a \"Game\" object in the parameter \"game_object\".\n",
    "    jackpot()\n",
    "        Returns the number of rolls in which all dice faces were matching.\n",
    "    combo()\n",
    "        Count all unique combinations of die faces in the game, and sort them.\n",
    "    face_count_per_row()\n",
    "        Count occurances of each face value in each roll of the game.\n",
    "    \"\"\"\n",
    "    def __init__(self, game_object):\n",
    "        \"\"\"\n",
    "        Purpose: Initialize an \"Analyzer\" object, which allows the user to conduct analysis on a \"Game\"\n",
    "        object after that object has been passed the .play() method at least once. The subject of \n",
    "        analysis is the \"Game\" object's most recent play when it was used to instatiate the \"Analyzer\"\n",
    "        object.\n",
    "        \n",
    "        Input: game_object - (\"Game\" object) A \"Game\" object that has been created using a list containing \n",
    "                                             one or more \"Die\" object(s).\n",
    "        Output: (None) Generates the attributes:  dice_faces\n",
    "                                                  game_df\n",
    "        \"\"\"\n",
    "        try:\n",
    "            self.dice_faces = game_object.dice_faces\n",
    "            self.game_df = game_object.show('wide')\n",
    "        except AttributeError:\n",
    "            self.init_error = 'Error - The argument entered for \"game_object\" must be of type \"montecarlo.Game\".'\n",
    "            print('Error - The argument entered for \"game_object\" must be of type \"montecarlo.Game\".')\n",
    "        \n",
    "    def jackpot(self):\n",
    "        \"\"\"\n",
    "        Purpose: Creates a dataframe indicating all rows where the values for each die were equivalent.\n",
    "                 A roll (row) of the results dataframe where all the die faces are equivalent is a \n",
    "                 \"jackpot\". This dataframe contains the original index of the roll, as well as the \n",
    "                 values of each \"Die\" object.\n",
    "        \n",
    "        Input: (None)\n",
    "        Output: (int) Number of jackpots in the \"Game\" object's results.\n",
    "        \"\"\"\n",
    "        self.game_jkpt = self.game_df.loc[lambda x: self.game_df.nunique(axis=1) == 1]\n",
    "        return len(self.game_jkpt)\n",
    "        \n",
    "    def combo(self):\n",
    "        \"\"\"\n",
    "        Purpose: Count all unique combinations of roll results that appear in the \"Game\" object's results, \n",
    "                 sort them by frequency of appearance, and save this information to a dataframe.\n",
    "        \n",
    "        Input: (None)\n",
    "        Output: (None) The results are saved to a pd.DataFrame as the class attribute \"game_combo\".\n",
    "        \"\"\"\n",
    "        self.game_combo = self.game_df.apply(lambda x: pd.Series(sorted(x)), 1)\\\n",
    "                             .value_counts()\\\n",
    "                                .to_frame('n')\n",
    "\n",
    "    def face_count_per_row(self):\n",
    "        \"\"\"\n",
    "        Purpose: Count the occurances of each die face value within a game's roll.\n",
    "        \n",
    "        Input: (None)\n",
    "        Output: (None) The results are saved in the pd.DataFrame class attribute \"game_face_counts\".\n",
    "        \"\"\"\n",
    "        all_faces = list()\n",
    "        for i in range(0,len(self.game_df)):\n",
    "            events_lst = list()\n",
    "            for j in self.dice_faces:\n",
    "                intermediate_lst = list(self.game_df.iloc[i].apply(lambda x: x == j))\n",
    "                num = sum(intermediate_lst)\n",
    "                events_lst.append(num)\n",
    "            all_faces.append(events_lst)\n",
    "        self.game_face_counts = pd.DataFrame(all_faces, columns=self.dice_faces)"
   ]
  },
  {
   "cell_type": "markdown",
   "id": "4c81c4f0-b6ff-46ab-ba2c-9de7f0179715",
   "metadata": {},
   "source": [
    "# Test Module"
   ]
  },
  {
   "cell_type": "code",
   "execution_count": 2,
   "id": "14b878d8-258b-4cf2-ad88-b8ee90d43977",
   "metadata": {},
   "outputs": [
    {
     "name": "stderr",
     "output_type": "stream",
     "text": [
      "C:\\Users\\Dom\\AppData\\Roaming\\jupyter\\runtime\\kernel-0ef1d1c8-9d5b-47a6-a2bc-3d0b2395b6e5 (unittest.loader._FailedTest) ... ERROR\n",
      "\n",
      "======================================================================\n",
      "ERROR: C:\\Users\\Dom\\AppData\\Roaming\\jupyter\\runtime\\kernel-0ef1d1c8-9d5b-47a6-a2bc-3d0b2395b6e5 (unittest.loader._FailedTest)\n",
      "----------------------------------------------------------------------\n",
      "AttributeError: module '__main__' has no attribute 'C:\\Users\\Dom\\AppData\\Roaming\\jupyter\\runtime\\kernel-0ef1d1c8-9d5b-47a6-a2bc-3d0b2395b6e5'\n",
      "\n",
      "----------------------------------------------------------------------\n",
      "Ran 1 test in 0.004s\n",
      "\n",
      "FAILED (errors=1)\n"
     ]
    },
    {
     "ename": "SystemExit",
     "evalue": "True",
     "output_type": "error",
     "traceback": [
      "An exception has occurred, use %tb to see the full traceback.\n",
      "\u001b[1;31mSystemExit\u001b[0m\u001b[1;31m:\u001b[0m True\n"
     ]
    },
    {
     "name": "stderr",
     "output_type": "stream",
     "text": [
      "C:\\Users\\Dom\\anaconda3\\lib\\site-packages\\IPython\\core\\interactiveshell.py:3377: UserWarning: To exit: use 'exit', 'quit', or Ctrl-D.\n",
      "  warn(\"To exit: use 'exit', 'quit', or Ctrl-D.\", stacklevel=1)\n"
     ]
    }
   ],
   "source": [
    "import montecarlo\n",
    "import unittest\n",
    "\n",
    "\n",
    "class MontecarloTestSuite(unittest.TestCase):\n",
    "    \n",
    "    \n",
    "    def test_01_Die_init(self):\n",
    "        '''\n",
    "        Purpose: Testing Die.__init__() to ensure all elements of input list are valid faces (str or int).\n",
    "        '''\n",
    "        die = montecarlo.Die([1, True, 3, 'a', 4.3, 6])\n",
    "        \n",
    "        # \"output\" and \"expected\" will be equivalent if the operation was completed successfully.\n",
    "        output = die.init_error\n",
    "        expected = \"Error - Input for argument 'n' is not of type: str or int\"\n",
    "        # This message will be displayed if the operation was unsuccessful.\n",
    "        message = 'Error - The face value passed was invalid, but an exception was not raised.' \n",
    "        self.assertEqual(output, expected, message)\n",
    "    \n",
    "    \n",
    "    def test_02_Die_change_weights(self):\n",
    "        '''\n",
    "        Purpose: Testing if the face_value passed to the .change_weights() method is valid.\n",
    "        '''\n",
    "        die = montecarlo.Die([1, 2, 3, 4, 5, 6])\n",
    "        output = die.change_weights('a', 5)\n",
    "        expected = print('The face value passed is invalid - it is not a valid face on the die.')\n",
    "        \n",
    "        # testValue will be \"True\" if the operation was completed successfully.\n",
    "        testValue = output == expected\n",
    "        # This message will be displayed if the operation was unsuccessful.\n",
    "        message = 'Error - The face value passed was invalid, but an exception was not raised.' \n",
    "        self.assertTrue(testValue, message)\n",
    "\n",
    "\n",
    "    def test_03_Die_roll(self):\n",
    "        '''\n",
    "        Purpose: Testing that the length of the outputted list of rolls matches the desired number of rolls.\n",
    "        '''\n",
    "        die = montecarlo.Die([1, 2, 3, 4, 5, 6])\n",
    "        output = len(die.roll(5))\n",
    "        expected = 5\n",
    "        \n",
    "        # testValue will be \"True\" if the operation was completed successfully.\n",
    "        testValue = output == expected\n",
    "        # This message will be displayed if the operation was unsuccessful.\n",
    "        message = 'Error - The die was not rolled the desired number of times.' \n",
    "        self.assertTrue(testValue, message)\n",
    "\n",
    "        \n",
    "    def test_04_Die_show(self):\n",
    "        '''\n",
    "        Purpose: Ensure the Die.show() method displays the entire faces/weights dataframe.\n",
    "        '''\n",
    "        inputs = [1, 2, 3, 4, 5, 6]\n",
    "        die = montecarlo.Die(inputs)\n",
    "        output = len(die.show())\n",
    "        expected = len(inputs)\n",
    "        \n",
    "        # testValue will be \"True\" if the operation was completed successfully.\n",
    "        testValue = output == expected\n",
    "        # This message will be displayed if the operation was unsuccessful.\n",
    "        message = 'Error - The number of faces and the number of rows in the faces/weights dataframe are not equal.' \n",
    "        self.assertTrue(testValue, message)\n",
    "        \n",
    "        \n",
    "    def test_05_Game_init(self):\n",
    "        '''\n",
    "        Purpose: Ensure the Game.__init__() method correctly takes a list.\n",
    "        '''\n",
    "        inputs = [1, 2, 3, 4, 5, 6]\n",
    "        die = montecarlo.Die(inputs)\n",
    "        game = montecarlo.Game([die, die])\n",
    "        output = isinstance(game.dice, list)\n",
    "        expected = True\n",
    "        \n",
    "        # testValue will be \"True\" if the operation was completed successfully.\n",
    "        testValue = output == expected\n",
    "        # This message will be displayed if the operation was unsuccessful.\n",
    "        message = 'Error - The input when initializing a new instance of \"Game\" was not a list.' \n",
    "        self.assertTrue(testValue, message)\n",
    "        \n",
    "    \n",
    "    def test_06_Game_play(self):\n",
    "        '''\n",
    "        Purpose: Ensure the Game.play() method correctly requires the input to be type \"int\".\n",
    "        '''\n",
    "        inputs = [1, 2, 3, 4, 5, 6]\n",
    "        die = montecarlo.Die(inputs)\n",
    "        game = montecarlo.Game([die, die])\n",
    "        \n",
    "        # \"output\" and \"expected\" will be equivalent if the operation was completed successfully.\n",
    "        output = game.play(25.3)\n",
    "        expected = print('Error - The argument entered for \"num_rolls\" must be an integer.')\n",
    "        # This message will be displayed if the operation was unsuccessful.\n",
    "        message = 'Error - The game.play() method incorrectly accepts non-integers as inputs.' \n",
    "        self.assertEqual(output, expected, message)\n",
    "\n",
    "        \n",
    "    def test_07_Game_show(self):\n",
    "        '''\n",
    "        Purpose: Ensure the Game.show() method correctly handles improper inputs.\n",
    "        '''\n",
    "        inputs = [1, 2, 3, 4, 5, 6]\n",
    "        die = montecarlo.Die(inputs)\n",
    "        game = montecarlo.Game([die, die])\n",
    "                \n",
    "        # \"output\" and \"expected\" will be equivalent if the operation was completed successfully.\n",
    "        output = game.show('blob')\n",
    "        expected = print('Error - The argument entered for \"df_format\" is invalid')\n",
    "        # This message will be displayed if the operation was unsuccessful.\n",
    "        message = 'Error - The input when initializing a new instance of \"Game\" was not a list.' \n",
    "        self.assertEqual(output, expected, message)\n",
    "    \n",
    "    \n",
    "    def test_08_Analyzer_init(self):\n",
    "        '''\n",
    "        Purpose: Ensure the Analyzer.__init__() method  correctly prohibits inputs other than \"Game\"\n",
    "                 objects from the montecarlo package when instantiating a new \"Analyzer\" object.\n",
    "        '''\n",
    "        broken_analyzer = montecarlo.Analyzer('blob')\n",
    "        \n",
    "        # \"output\" and \"expected\" will be equivalent if the operation was completed successfully.\n",
    "        output = broken_analyzer.init_error\n",
    "        expected = 'Error - The argument entered for \"game_object\" must be of type \"montecarlo.Game\".'\n",
    "        # This message will be displayed if the operation was unsuccessful.\n",
    "        message = 'Error - The argument entered for \"game_object\" was not of type \"montecarlo.Game\".' \n",
    "        self.assertEqual(output, expected, message)\n",
    "        \n",
    "        \n",
    "    def test_09_Analyzer_jackpot(self):\n",
    "        '''\n",
    "        Purpose: Ensure the Analyzer.jackpot() method does not incorrectly classify jackpots.\n",
    "        '''\n",
    "        inputs = [1, 2, 3, 4, 5, 6]\n",
    "        die1 = montecarlo.Die(inputs)\n",
    "        die2 = montecarlo.Die(inputs)\n",
    "        die1.change_weights(1, 1000)\n",
    "        die1.change_weights(6, .001)\n",
    "        die2.change_weights(6, 1000)\n",
    "        die2.change_weights(1, .001)\n",
    "        game = montecarlo.Game([die1, die2])\n",
    "        game.play(100)\n",
    "        analyzer = montecarlo.Analyzer(game)\n",
    "        \n",
    "        # \"output\" and \"expected\" will be equivalent if the operation was completed successfully.\n",
    "        output = analyzer.jackpot()\n",
    "        expected = 0\n",
    "        # This message will be displayed if the operation was unsuccessful.\n",
    "        message = 'Error - The Analyzer.jackpot() incorrectly identifies jackpots.' \n",
    "        self.assertEqual(output, expected, message)\n",
    "        \n",
    "        \n",
    "    def test_10_Analyzer_combo(self):\n",
    "        '''\n",
    "        Purpose: Ensure the Analyzer.combo() method correctly sorts the face combinations.\n",
    "        '''\n",
    "        inputs = [1, 2, 3, 4, 5, 6]\n",
    "        die = montecarlo.Die(inputs)\n",
    "        game = montecarlo.Game([die, die])\n",
    "        game.play(25)\n",
    "        analyzer = montecarlo.Analyzer(game)\n",
    "        analyzer.combo()\n",
    "        output1 = list(analyzer.game_combo['n'])[0]\n",
    "        output2 = list(analyzer.game_combo['n'])[1]\n",
    "        \n",
    "        # Will be \"True\" if the operation was completed successfully.\n",
    "        testValue = output1 >= output2\n",
    "        # This message will be displayed if the operation was unsuccessful.\n",
    "        message = 'Error - The Analyzer.combo() method incorrectly sorts the face combinations.' \n",
    "        self.assertTrue(testValue, message)\n",
    "    \n",
    "\n",
    "    def test_11_Analyzer_face(self):\n",
    "        '''\n",
    "        Purpose: Ensure the Analyzer.face_count_per_row() method includes a row for each die face.\n",
    "        '''\n",
    "        inputs = [1, 2, 3, 4, 5, 6]\n",
    "        die = montecarlo.Die(inputs)\n",
    "        game = montecarlo.Game([die, die])\n",
    "        game.play(25)\n",
    "        analyzer = montecarlo.Analyzer(game)\n",
    "        analyzer.face_count_per_row()\n",
    "                \n",
    "        # \"output\" and \"expected\" will be equivalent if the operation was completed successfully.\n",
    "        output = analyzer.game_face_counts.shape[1]\n",
    "        expected = len(inputs)\n",
    "        # This message will be displayed if the operation was unsuccessful.\n",
    "        message = 'Error - The Analyzer.face_count_per_row() method does not include a row for each die face.' \n",
    "        self.assertEqual(output, expected, message)\n",
    "        \n",
    "        \n",
    "if __name__ == '__main__':\n",
    "    \n",
    "    unittest.main(verbosity=2)"
   ]
  },
  {
   "cell_type": "markdown",
   "id": "3c2b90b6-ac8b-43fa-a069-cb5b0b22aee0",
   "metadata": {},
   "source": [
    "# Test Results"
   ]
  },
  {
   "cell_type": "markdown",
   "id": "a39d060b-363f-41d1-aa7f-09e2186a14eb",
   "metadata": {},
   "source": [
    "test_01_Die_init (__main__.MontecarloTestSuite)\n",
    "Purpose: Testing Die.__init__() to ensure all elements of input list are valid faces (str or int). ... ok\n",
    "test_02_Die_change_weights (__main__.MontecarloTestSuite)\n",
    "Purpose: Testing if the face_value passed to the .change_weights() method is valid. ... \n",
    "  if face_value in self.__private_df['face'].values:\n",
    "ok\n",
    "test_03_Die_roll (__main__.MontecarloTestSuite)\n",
    "Purpose: Testing that the length of the outputted list of rolls matches the desired number of rolls. ... ok\n",
    "test_04_Die_show (__main__.MontecarloTestSuite)\n",
    "Purpose: Ensure the Die.show() method displays the entire faces/weights dataframe. ... ok\n",
    "test_05_Game_init (__main__.MontecarloTestSuite)\n",
    "Purpose: Ensure the Game.__init__() method correctly takes a list. ... ok\n",
    "test_06_Game_play (__main__.MontecarloTestSuite)\n",
    "Purpose: Ensure the Game.play() method correctly requires the input to be type \"int\". ... ok\n",
    "test_07_Game_show (__main__.MontecarloTestSuite)\n",
    "Purpose: Ensure the Game.show() method correctly handles improper inputs. ... ok\n",
    "test_08_Analyzer_init (__main__.MontecarloTestSuite)\n",
    "Purpose: Ensure the Analyzer.__init__() method  correctly prohibits inputs other than \"Game\" ... ok\n",
    "test_09_Analyzer_jackpot (__main__.MontecarloTestSuite)\n",
    "Purpose: Ensure the Analyzer.jackpot() method does not incorrectly classify jackpots. ... ok\n",
    "test_10_Analyzer_combo (__main__.MontecarloTestSuite)\n",
    "Purpose: Ensure the Analyzer.combo() method correctly sorts the face combinations. ... ok\n",
    "test_11_Analyzer_face (__main__.MontecarloTestSuite)\n",
    "Purpose: Ensure the Analyzer.face_count_per_row() method includes a row for each die face. ... ok\n",
    "\n",
    "----------------------------------------------------------------------\n",
    "Ran 11 tests in 0.100s\n",
    "\n",
    "OK"
   ]
  },
  {
   "cell_type": "markdown",
   "id": "7c44695d-d1b3-4edf-9f94-e64d7446f199",
   "metadata": {},
   "source": [
    "# Scenarios\n",
    "\n",
    "Code blocks with your scenarios and their outputs. \n",
    "\n",
    "These should have appropriate import statements even though the code is now in the same notebook as the classes it calls. "
   ]
  },
  {
   "cell_type": "markdown",
   "id": "90b7abd8-f4a7-4d71-bc9a-746640516b98",
   "metadata": {
    "tags": []
   },
   "source": [
    "## Scenario 1: 2-Sided Coin"
   ]
  },
  {
   "cell_type": "markdown",
   "id": "6e8a6317-d204-43e5-9754-60716f84f37b",
   "metadata": {},
   "source": [
    "1. Create a fair coin (with faces H and T) and one unfair coin, in which one of the faces has a weight of 5 and the others 1."
   ]
  },
  {
   "cell_type": "code",
   "execution_count": 2,
   "id": "249ad928-2022-4192-871a-1e9952a90000",
   "metadata": {},
   "outputs": [
    {
     "data": {
      "text/html": [
       "<div>\n",
       "<style scoped>\n",
       "    .dataframe tbody tr th:only-of-type {\n",
       "        vertical-align: middle;\n",
       "    }\n",
       "\n",
       "    .dataframe tbody tr th {\n",
       "        vertical-align: top;\n",
       "    }\n",
       "\n",
       "    .dataframe thead th {\n",
       "        text-align: right;\n",
       "    }\n",
       "</style>\n",
       "<table border=\"1\" class=\"dataframe\">\n",
       "  <thead>\n",
       "    <tr style=\"text-align: right;\">\n",
       "      <th></th>\n",
       "      <th>face</th>\n",
       "      <th>weights</th>\n",
       "    </tr>\n",
       "  </thead>\n",
       "  <tbody>\n",
       "    <tr>\n",
       "      <th>0</th>\n",
       "      <td>H</td>\n",
       "      <td>5.0</td>\n",
       "    </tr>\n",
       "    <tr>\n",
       "      <th>1</th>\n",
       "      <td>T</td>\n",
       "      <td>1.0</td>\n",
       "    </tr>\n",
       "  </tbody>\n",
       "</table>\n",
       "</div>"
      ],
      "text/plain": [
       "  face  weights\n",
       "0    H      5.0\n",
       "1    T      1.0"
      ]
     },
     "execution_count": 2,
     "metadata": {},
     "output_type": "execute_result"
    }
   ],
   "source": [
    "faces = ['H', 'T']\n",
    "fair_coin = montecarlo.Die(faces)\n",
    "\n",
    "unfair_coin = montecarlo.Die(faces)\n",
    "\n",
    "unfair_coin.change_weights('H', 5)\n",
    "unfair_coin.show()"
   ]
  },
  {
   "cell_type": "markdown",
   "id": "970cb658-ab52-4017-87c1-a45e874a1f44",
   "metadata": {},
   "source": [
    "2. Play a game of 1000 flips of three coins with all fair dice."
   ]
  },
  {
   "cell_type": "code",
   "execution_count": 3,
   "id": "45b29133-3a86-4888-9c55-2e01200ad763",
   "metadata": {},
   "outputs": [],
   "source": [
    "all_fair = [fair_coin, fair_coin, fair_coin]\n",
    "game1 = montecarlo.Game(all_fair)\n",
    "game1.play(1000)"
   ]
  },
  {
   "cell_type": "markdown",
   "id": "93d11655-5845-461d-a416-1eecc9a3f29c",
   "metadata": {},
   "source": [
    "3. Play a game of 1000 flips with two unfair dice and one fair die."
   ]
  },
  {
   "cell_type": "code",
   "execution_count": 4,
   "id": "75e12efb-89c9-436d-adc8-4170bf15f705",
   "metadata": {},
   "outputs": [],
   "source": [
    "one_fair = [unfair_coin, unfair_coin, fair_coin]\n",
    "game2 = montecarlo.Game(one_fair)\n",
    "game2.play(1000)"
   ]
  },
  {
   "cell_type": "markdown",
   "id": "87fb1023-ce10-40ca-be83-29a99ecd8e97",
   "metadata": {},
   "source": [
    "4. For each game, use an Analyzer object to determine the relative frequency of jackpots – getting either all Hs or all Ts."
   ]
  },
  {
   "cell_type": "code",
   "execution_count": 5,
   "id": "29ae0203-a5b0-486a-b3de-02bac0681103",
   "metadata": {},
   "outputs": [],
   "source": [
    "game1_analize = montecarlo.Analyzer(game1)\n",
    "game2_analize = montecarlo.Analyzer(game2)"
   ]
  },
  {
   "cell_type": "code",
   "execution_count": 6,
   "id": "f97145fd-ee32-4e69-8557-55716b34970a",
   "metadata": {},
   "outputs": [
    {
     "name": "stdout",
     "output_type": "stream",
     "text": [
      "Relative frequency of a jackpot:\n",
      "Number of jackpots in \"game1\": 250\n",
      "Number of jackpots in \"game2\": 370\n",
      "\n"
     ]
    }
   ],
   "source": [
    "print(f\"\"\"Relative frequency of a jackpot:\n",
    "Number of jackpots in \"game1\": {game1_analize.jackpot()}\n",
    "Number of jackpots in \"game2\": {game2_analize.jackpot()}\n",
    "\"\"\")"
   ]
  },
  {
   "cell_type": "markdown",
   "id": "e0d547a9-8661-45b3-be55-e0390d463536",
   "metadata": {},
   "source": [
    "5. Compute relative frequency as the number of jackpots over the total number of rolls."
   ]
  },
  {
   "cell_type": "code",
   "execution_count": 7,
   "id": "630da2bb-1b48-47f5-b33e-70caba64cfd0",
   "metadata": {},
   "outputs": [
    {
     "name": "stdout",
     "output_type": "stream",
     "text": [
      "Relative frequency of a jackpot:\n",
      "Number of jackpots in \"game1\" / total rolls: 0.25\n",
      "Number of jackpots in \"game2\" / total rolls: 0.37\n",
      "\n"
     ]
    }
   ],
   "source": [
    "print(f\"\"\"Relative frequency of a jackpot:\n",
    "Number of jackpots in \"game1\" / total rolls: {game1_analize.jackpot()/len(game1.show(\"wide\"))}\n",
    "Number of jackpots in \"game2\" / total rolls: {game2_analize.jackpot()/len(game2.show(\"wide\"))}\n",
    "\"\"\")"
   ]
  },
  {
   "cell_type": "markdown",
   "id": "f1d79fff-abe4-49cf-820a-62b1b25c563f",
   "metadata": {},
   "source": [
    "6. Show your results, comparing the two relative frequencies, in a simple bar chart."
   ]
  },
  {
   "cell_type": "code",
   "execution_count": 8,
   "id": "a80bfe8f-65cb-42a0-b17b-9bcc1db7c91a",
   "metadata": {},
   "outputs": [
    {
     "data": {
      "text/plain": [
       "<BarContainer object of 2 artists>"
      ]
     },
     "execution_count": 8,
     "metadata": {},
     "output_type": "execute_result"
    },
    {
     "data": {
      "image/png": "[encoded data removed]",
      "text/plain": [
       "<Figure size 432x288 with 1 Axes>"
      ]
     },
     "metadata": {
      "needs_background": "light"
     },
     "output_type": "display_data"
    }
   ],
   "source": [
    "freq_lst = [game1_analize.jackpot()/len(game1.show(\"wide\")), game2_analize.jackpot()/len(game2.show(\"wide\"))]\n",
    "labels = ['Game 1', 'Game 2']\n",
    "plt.bar(labels, freq_lst)\n"
   ]
  },
  {
   "cell_type": "markdown",
   "id": "92793a09-0024-465d-b272-2ef8b9a6c21c",
   "metadata": {},
   "source": [
    "## Scenario 2: 6-Sided Die"
   ]
  },
  {
   "cell_type": "markdown",
   "id": "ee4269c9-6391-450c-8351-e1d22dea38f1",
   "metadata": {},
   "source": [
    "1. Create a fair die and two unfair dice, all of six sides with the faces 1 through 6. One unfair die (Type 1) will weight 6 five times more than the others (i.e. it has weight of 5 and the others a weight of 1 each). The other unfair die (Type 2) will  weight 1 five times more than the others."
   ]
  },
  {
   "cell_type": "code",
   "execution_count": 9,
   "id": "cbe745cd-ecba-454b-8b6d-361658a162d4",
   "metadata": {},
   "outputs": [],
   "source": [
    "faces = [1, 2, 3, 4, 5, 6]\n",
    "fair_die = montecarlo.Die(faces)\n",
    "\n",
    "unfair_die_t1 = montecarlo.Die(faces)\n",
    "unfair_die_t1.change_weights(6, 5)\n",
    "\n",
    "unfair_die_t2 = montecarlo.Die(faces)\n",
    "unfair_die_t2.change_weights(1, 5)"
   ]
  },
  {
   "cell_type": "markdown",
   "id": "72d0b48e-ce13-4319-8ff4-2970af744392",
   "metadata": {},
   "source": [
    "2. Play a game of 10000 rolls with 5 fair dice."
   ]
  },
  {
   "cell_type": "code",
   "execution_count": 10,
   "id": "7a949487-14ba-4b89-b363-115f6c6dc3dd",
   "metadata": {},
   "outputs": [],
   "source": [
    "all_fair_dice = [fair_die, fair_die, fair_die, fair_die, fair_die]\n",
    "game3 = montecarlo.Game(all_fair_dice)\n",
    "game3.play(10000)"
   ]
  },
  {
   "cell_type": "markdown",
   "id": "7eba438d-0a08-451d-8603-1a6c9bbd3f66",
   "metadata": {},
   "source": [
    "3. Play a game of 10000 rolls with 2 unfair dice of type 1, 1 unfair die of type 2, and the rest fair dice."
   ]
  },
  {
   "cell_type": "code",
   "execution_count": 11,
   "id": "402f597d-fc30-4e46-95c7-a16f32ed9fbb",
   "metadata": {},
   "outputs": [],
   "source": [
    "two_fair_dice = [unfair_die_t1, unfair_die_t1, unfair_die_t2, fair_die, fair_die]\n",
    "game4 = montecarlo.Game(all_fair_dice)\n",
    "game4.play(10000)"
   ]
  },
  {
   "cell_type": "markdown",
   "id": "9fd356cc-bbd5-4a49-88b0-35812d4df5ce",
   "metadata": {},
   "source": [
    "4. For each game, use an Analyzer object to determine the relative frequency of jackpots and show your results, comparing the two relative frequencies, in a simple bar chart."
   ]
  },
  {
   "cell_type": "code",
   "execution_count": 12,
   "id": "3a635871-6475-4fde-9238-4ec6f90bb0b9",
   "metadata": {},
   "outputs": [],
   "source": [
    "game3_analize = montecarlo.Analyzer(game3)\n",
    "game4_analize = montecarlo.Analyzer(game4)"
   ]
  },
  {
   "cell_type": "code",
   "execution_count": 13,
   "id": "ca232fef-0c69-4c63-94f9-601ea0ee295d",
   "metadata": {},
   "outputs": [
    {
     "data": {
      "text/plain": [
       "<BarContainer object of 2 artists>"
      ]
     },
     "execution_count": 13,
     "metadata": {},
     "output_type": "execute_result"
    },
    {
     "data": {
      "image/png": "[encoded data removed]",
      "text/plain": [
       "<Figure size 432x288 with 1 Axes>"
      ]
     },
     "metadata": {
      "needs_background": "light"
     },
     "output_type": "display_data"
    }
   ],
   "source": [
    "freq_lst_2 = [game3_analize.jackpot()/len(game3.show(\"wide\")), game4_analize.jackpot()/len(game4.show(\"wide\"))]\n",
    "labels_2 = ['Game 3', 'Game 4']\n",
    "plt.bar(labels_2, freq_lst_2)"
   ]
  },
  {
   "cell_type": "markdown",
   "id": "4b807038-ef8f-4e7f-9102-740f17b3060a",
   "metadata": {},
   "source": [
    "5. Also compute 10 most frequent combinations of faces for each game. Plot each of these as bar charts."
   ]
  },
  {
   "cell_type": "code",
   "execution_count": 19,
   "id": "50a97539-01ea-4f82-bd84-1b26b2f25900",
   "metadata": {},
   "outputs": [
    {
     "data": {
      "text/plain": [
       "<AxesSubplot:xlabel='0,1,2,3,4'>"
      ]
     },
     "execution_count": 19,
     "metadata": {},
     "output_type": "execute_result"
    },
    {
     "data": {
      "image/png": "[encoded data removed]",
      "text/plain": [
       "<Figure size 432x288 with 1 Axes>"
      ]
     },
     "metadata": {
      "needs_background": "light"
     },
     "output_type": "display_data"
    }
   ],
   "source": [
    "game3_analize.combo()\n",
    "game3_top_10 = game3_analize.game_combo.head(10)\n",
    "game3_top_10.plot.bar()"
   ]
  },
  {
   "cell_type": "code",
   "execution_count": 20,
   "id": "c9913839-003d-4eaf-81f1-c2e1a612e325",
   "metadata": {},
   "outputs": [
    {
     "data": {
      "text/plain": [
       "<AxesSubplot:xlabel='0,1,2,3,4'>"
      ]
     },
     "execution_count": 20,
     "metadata": {},
     "output_type": "execute_result"
    },
    {
     "data": {
      "image/png": "[encoded data removed]",
      "text/plain": [
       "<Figure size 432x288 with 1 Axes>"
      ]
     },
     "metadata": {
      "needs_background": "light"
     },
     "output_type": "display_data"
    }
   ],
   "source": [
    "game4_analize.combo()\n",
    "game4_top_10 = game4_analize.game_combo.head(10)\n",
    "game4_top_10.plot.bar()"
   ]
  },
  {
   "cell_type": "markdown",
   "id": "1b47f5b6-188d-4d24-9c2f-687b430e6624",
   "metadata": {
    "tags": []
   },
   "source": [
    "## Scenario 3: Letters of The Roman Alphabet"
   ]
  },
  {
   "cell_type": "markdown",
   "id": "34f86df9-c937-4d35-a9d3-61cdf52cfe6c",
   "metadata": {},
   "source": [
    "1. Create a \"die\" of letters from a to z with weights based on their frequency of usage. See Appendix for these weights."
   ]
  },
  {
   "cell_type": "code",
   "execution_count": 16,
   "id": "2722a1e9-55ee-47cd-87f6-089b033ba96f",
   "metadata": {},
   "outputs": [],
   "source": [
    "letters= ['a', 'b', 'c', 'd', 'e', 'f', 'g', 'h', 'i', 'j', 'k', 'l', 'm', 'n', 'o', 'p', 'q', 'r', 's', 't', 'u', 'v', 'w', 'x', 'y', 'z']\n",
    "weights = [8.4966, 2.0720, 4.5388, 3.3844, 11.1607, 1.8121, 2.4705, 3.0034, 7.5448, 0.1965, 1.1016, 5.4893, 3.0129, 6.6544, 7.1635, 3.1671, 0.1962, 7.5809, 5.7351, 6.9509, 3.6308, 1.0074, 1.2899, 0.2902, 1.7779, 0.2722]\n",
    "letters_die = montecarlo.Die(letters)\n",
    "\n",
    "letters_die.change_weights(letters, weights)"
   ]
  },
  {
   "cell_type": "markdown",
   "id": "47e68793-9792-41ea-adab-5b2fc4214545",
   "metadata": {},
   "source": [
    "2. Play a game involving 5 of these dice with 1000 rolls."
   ]
  },
  {
   "cell_type": "code",
   "execution_count": 22,
   "id": "a7ded991-144f-4d83-b21d-12810402350f",
   "metadata": {},
   "outputs": [],
   "source": [
    "letter_dice = [letters_die, letters_die, letters_die, letters_die, letters_die]\n",
    "game5 = montecarlo.Game(letter_dice)\n",
    "game5.play(1000)"
   ]
  },
  {
   "cell_type": "markdown",
   "id": "d05b51f8-e701-401d-b3cc-7b33c9dabf74",
   "metadata": {},
   "source": [
    "3. How many combos can you that look like actual English words?\n",
    "        a. NOTE: \"combo\" here should really be permutation, which make sense for words. So just compute these from the result data you get from the Game object."
   ]
  },
  {
   "cell_type": "code",
   "execution_count": 27,
   "id": "af6886b6-9071-494d-b591-0b186b0952ba",
   "metadata": {},
   "outputs": [
    {
     "data": {
      "text/html": [
       "<div>\n",
       "<style scoped>\n",
       "    .dataframe tbody tr th:only-of-type {\n",
       "        vertical-align: middle;\n",
       "    }\n",
       "\n",
       "    .dataframe tbody tr th {\n",
       "        vertical-align: top;\n",
       "    }\n",
       "\n",
       "    .dataframe thead th {\n",
       "        text-align: right;\n",
       "    }\n",
       "</style>\n",
       "<table border=\"1\" class=\"dataframe\">\n",
       "  <thead>\n",
       "    <tr style=\"text-align: right;\">\n",
       "      <th></th>\n",
       "      <th>0</th>\n",
       "      <th>1</th>\n",
       "      <th>2</th>\n",
       "      <th>3</th>\n",
       "      <th>4</th>\n",
       "    </tr>\n",
       "  </thead>\n",
       "  <tbody>\n",
       "    <tr>\n",
       "      <th>806</th>\n",
       "      <td>a</td>\n",
       "      <td>s</td>\n",
       "      <td>e</td>\n",
       "      <td>p</td>\n",
       "      <td>e</td>\n",
       "    </tr>\n",
       "    <tr>\n",
       "      <th>289</th>\n",
       "      <td>t</td>\n",
       "      <td>t</td>\n",
       "      <td>o</td>\n",
       "      <td>s</td>\n",
       "      <td>t</td>\n",
       "    </tr>\n",
       "    <tr>\n",
       "      <th>231</th>\n",
       "      <td>y</td>\n",
       "      <td>n</td>\n",
       "      <td>d</td>\n",
       "      <td>f</td>\n",
       "      <td>h</td>\n",
       "    </tr>\n",
       "    <tr>\n",
       "      <th>285</th>\n",
       "      <td>c</td>\n",
       "      <td>e</td>\n",
       "      <td>c</td>\n",
       "      <td>e</td>\n",
       "      <td>c</td>\n",
       "    </tr>\n",
       "    <tr>\n",
       "      <th>782</th>\n",
       "      <td>p</td>\n",
       "      <td>e</td>\n",
       "      <td>g</td>\n",
       "      <td>e</td>\n",
       "      <td>e</td>\n",
       "    </tr>\n",
       "    <tr>\n",
       "      <th>842</th>\n",
       "      <td>a</td>\n",
       "      <td>e</td>\n",
       "      <td>a</td>\n",
       "      <td>t</td>\n",
       "      <td>r</td>\n",
       "    </tr>\n",
       "    <tr>\n",
       "      <th>951</th>\n",
       "      <td>d</td>\n",
       "      <td>i</td>\n",
       "      <td>i</td>\n",
       "      <td>i</td>\n",
       "      <td>c</td>\n",
       "    </tr>\n",
       "    <tr>\n",
       "      <th>777</th>\n",
       "      <td>i</td>\n",
       "      <td>a</td>\n",
       "      <td>d</td>\n",
       "      <td>r</td>\n",
       "      <td>l</td>\n",
       "    </tr>\n",
       "    <tr>\n",
       "      <th>77</th>\n",
       "      <td>a</td>\n",
       "      <td>h</td>\n",
       "      <td>e</td>\n",
       "      <td>c</td>\n",
       "      <td>d</td>\n",
       "    </tr>\n",
       "    <tr>\n",
       "      <th>163</th>\n",
       "      <td>e</td>\n",
       "      <td>n</td>\n",
       "      <td>q</td>\n",
       "      <td>t</td>\n",
       "      <td>v</td>\n",
       "    </tr>\n",
       "    <tr>\n",
       "      <th>565</th>\n",
       "      <td>o</td>\n",
       "      <td>t</td>\n",
       "      <td>a</td>\n",
       "      <td>u</td>\n",
       "      <td>v</td>\n",
       "    </tr>\n",
       "    <tr>\n",
       "      <th>269</th>\n",
       "      <td>r</td>\n",
       "      <td>l</td>\n",
       "      <td>t</td>\n",
       "      <td>e</td>\n",
       "      <td>e</td>\n",
       "    </tr>\n",
       "    <tr>\n",
       "      <th>541</th>\n",
       "      <td>s</td>\n",
       "      <td>p</td>\n",
       "      <td>s</td>\n",
       "      <td>d</td>\n",
       "      <td>v</td>\n",
       "    </tr>\n",
       "    <tr>\n",
       "      <th>602</th>\n",
       "      <td>o</td>\n",
       "      <td>r</td>\n",
       "      <td>b</td>\n",
       "      <td>e</td>\n",
       "      <td>l</td>\n",
       "    </tr>\n",
       "    <tr>\n",
       "      <th>810</th>\n",
       "      <td>e</td>\n",
       "      <td>a</td>\n",
       "      <td>l</td>\n",
       "      <td>e</td>\n",
       "      <td>p</td>\n",
       "    </tr>\n",
       "    <tr>\n",
       "      <th>400</th>\n",
       "      <td>g</td>\n",
       "      <td>r</td>\n",
       "      <td>i</td>\n",
       "      <td>u</td>\n",
       "      <td>o</td>\n",
       "    </tr>\n",
       "    <tr>\n",
       "      <th>825</th>\n",
       "      <td>t</td>\n",
       "      <td>i</td>\n",
       "      <td>d</td>\n",
       "      <td>n</td>\n",
       "      <td>m</td>\n",
       "    </tr>\n",
       "    <tr>\n",
       "      <th>228</th>\n",
       "      <td>d</td>\n",
       "      <td>t</td>\n",
       "      <td>a</td>\n",
       "      <td>r</td>\n",
       "      <td>h</td>\n",
       "    </tr>\n",
       "    <tr>\n",
       "      <th>335</th>\n",
       "      <td>a</td>\n",
       "      <td>c</td>\n",
       "      <td>i</td>\n",
       "      <td>o</td>\n",
       "      <td>e</td>\n",
       "    </tr>\n",
       "    <tr>\n",
       "      <th>803</th>\n",
       "      <td>t</td>\n",
       "      <td>l</td>\n",
       "      <td>c</td>\n",
       "      <td>g</td>\n",
       "      <td>c</td>\n",
       "    </tr>\n",
       "  </tbody>\n",
       "</table>\n",
       "</div>"
      ],
      "text/plain": [
       "     0  1  2  3  4\n",
       "806  a  s  e  p  e\n",
       "289  t  t  o  s  t\n",
       "231  y  n  d  f  h\n",
       "285  c  e  c  e  c\n",
       "782  p  e  g  e  e\n",
       "842  a  e  a  t  r\n",
       "951  d  i  i  i  c\n",
       "777  i  a  d  r  l\n",
       "77   a  h  e  c  d\n",
       "163  e  n  q  t  v\n",
       "565  o  t  a  u  v\n",
       "269  r  l  t  e  e\n",
       "541  s  p  s  d  v\n",
       "602  o  r  b  e  l\n",
       "810  e  a  l  e  p\n",
       "400  g  r  i  u  o\n",
       "825  t  i  d  n  m\n",
       "228  d  t  a  r  h\n",
       "335  a  c  i  o  e\n",
       "803  t  l  c  g  c"
      ]
     },
     "execution_count": 27,
     "metadata": {},
     "output_type": "execute_result"
    }
   ],
   "source": [
    "game5.show().sample(20)"
   ]
  },
  {
   "cell_type": "markdown",
   "id": "605e3a4a-9dd7-4d44-b003-bd35fbd6f6a5",
   "metadata": {},
   "source": [
    "Many permutations looks similar to english words, though none of the 80 combinations sampled actually were english words. The permutation to an english word was \"tiper\"."
   ]
  },
  {
   "cell_type": "markdown",
   "id": "5214377b-3568-489f-9d8a-c45322b8f812",
   "metadata": {},
   "source": [
    "4. Based on your eye count, what is the relative frequency of these words versus the rest?\n",
    "        a. NOTE: You can do a few random sample to compute your estimate."
   ]
  },
  {
   "cell_type": "markdown",
   "id": "0b1e0439-3093-457a-bc73-c6e662cd0225",
   "metadata": {},
   "source": [
    "Based on my random samples, the relative frequency is 0/80, or 0.00 of the words in the sample are actual english words, if the sample is representative of the population."
   ]
  },
  {
   "cell_type": "markdown",
   "id": "6ced706c-19e7-4e79-b171-bfb076f822b4",
   "metadata": {},
   "source": [
    "# Directory Listing\n",
    "\n",
    "A code block that executes the following bash command: \n",
    "\n",
    "```bash\n",
    "!ls -lRF -o\n",
    "```"
   ]
  },
  {
   "cell_type": "code",
   "execution_count": 4,
   "id": "67e82583-6c5f-4e20-8c08-b5de77b4b0a5",
   "metadata": {},
   "outputs": [
    {
     "name": "stdout",
     "output_type": "stream",
     "text": [
      " Volume in drive C has no label.\n",
      " Volume Serial Number is B0D0-44C8\n",
      "\n",
      " Directory of C:\\Users\\Dom\\Desktop\\edu\\MSDS\\summer_22\\DS_5100\\final_project\n",
      "\n",
      "07/16/2022  02:16 AM    <DIR>          .\n",
      "07/16/2022  02:16 AM    <DIR>          ..\n",
      "07/16/2022  02:04 AM    <DIR>          .ipynb_checkpoints\n",
      "07/16/2022  02:16 AM            84,428 Final_Project_Dominick_DeCanio.ipynb\n",
      "07/16/2022  01:51 AM            17,041 final_project_scrap.ipynb\n",
      "07/14/2022  11:11 AM            18,943 final_testy.ipynb\n",
      "07/16/2022  12:47 AM            11,425 montecarlo.py\n",
      "07/16/2022  02:15 AM            53,274 montecarlo_demo.ipynb\n",
      "07/16/2022  12:47 AM            16,232 montecarlo_testing_for_unittests.ipynb\n",
      "07/16/2022  12:47 AM             8,320 montecarlo_tests.py\n",
      "07/16/2022  01:33 AM             3,540 montecarlo_test_results.txt\n",
      "07/16/2022  02:03 AM               423 setup.py\n",
      "07/16/2022  01:25 AM    <DIR>          __pycache__\n",
      "               9 File(s)        213,626 bytes\n",
      "               4 Dir(s)  328,400,596,992 bytes free\n"
     ]
    }
   ],
   "source": [
    "# I am using the command !dir here because I am running this code on a windows machine.\n",
    "!dir"
   ]
  },
  {
   "cell_type": "markdown",
   "id": "c4df835c-3cd7-4c74-a4de-51638607680b",
   "metadata": {
    "tags": []
   },
   "source": [
    "# Installation Output Listing\n",
    "    \n",
    "A code block that executes the code to install your package and outputs a successful installation."
   ]
  },
  {
   "cell_type": "code",
   "execution_count": 1,
   "id": "3609769a-c338-4746-8607-d124caf76ed8",
   "metadata": {},
   "outputs": [
    {
     "name": "stdout",
     "output_type": "stream",
     "text": [
      "Processing c:\\users\\dom\\desktop\\edu\\msds\\summer_22\\ds_5100\\montecarlo\n",
      "Requirement already satisfied: numpy>=1.11.1 in c:\\users\\dom\\anaconda3\\lib\\site-packages (from montecarlo==1.0.0) (1.21.5)\n",
      "Requirement already satisfied: pandas>=1.4.2 in c:\\users\\dom\\anaconda3\\lib\\site-packages (from montecarlo==1.0.0) (1.4.2)\n",
      "Requirement already satisfied: matplotlib>=1.5.1 in c:\\users\\dom\\anaconda3\\lib\\site-packages (from montecarlo==1.0.0) (3.5.1)\n",
      "Requirement already satisfied: fonttools>=4.22.0 in c:\\users\\dom\\anaconda3\\lib\\site-packages (from matplotlib>=1.5.1->montecarlo==1.0.0) (4.25.0)\n",
      "Requirement already satisfied: pillow>=6.2.0 in c:\\users\\dom\\anaconda3\\lib\\site-packages (from matplotlib>=1.5.1->montecarlo==1.0.0) (9.0.1)\n",
      "Requirement already satisfied: python-dateutil>=2.7 in c:\\users\\dom\\anaconda3\\lib\\site-packages (from matplotlib>=1.5.1->montecarlo==1.0.0) (2.8.2)\n",
      "Requirement already satisfied: packaging>=20.0 in c:\\users\\dom\\anaconda3\\lib\\site-packages (from matplotlib>=1.5.1->montecarlo==1.0.0) (21.3)\n",
      "Requirement already satisfied: kiwisolver>=1.0.1 in c:\\users\\dom\\anaconda3\\lib\\site-packages (from matplotlib>=1.5.1->montecarlo==1.0.0) (1.3.2)\n",
      "Requirement already satisfied: pyparsing>=2.2.1 in c:\\users\\dom\\anaconda3\\lib\\site-packages (from matplotlib>=1.5.1->montecarlo==1.0.0) (3.0.4)\n",
      "Requirement already satisfied: cycler>=0.10 in c:\\users\\dom\\anaconda3\\lib\\site-packages (from matplotlib>=1.5.1->montecarlo==1.0.0) (0.11.0)\n",
      "Requirement already satisfied: pytz>=2020.1 in c:\\users\\dom\\anaconda3\\lib\\site-packages (from pandas>=1.4.2->montecarlo==1.0.0) (2021.3)\n",
      "Requirement already satisfied: six>=1.5 in c:\\users\\dom\\anaconda3\\lib\\site-packages (from python-dateutil>=2.7->matplotlib>=1.5.1->montecarlo==1.0.0) (1.16.0)\n",
      "Building wheels for collected packages: montecarlo\n",
      "  Building wheel for montecarlo (setup.py): started\n",
      "  Building wheel for montecarlo (setup.py): finished with status 'done'\n",
      "  Created wheel for montecarlo: filename=montecarlo-1.0.0-py3-none-any.whl size=5381 sha256=05277553836d807674877629e2ef15c27b97a5d8fd0de5cffb1375f101901174\n",
      "  Stored in directory: C:\\Users\\Dom\\AppData\\Local\\Temp\\pip-ephem-wheel-cache-givq76ig\\wheels\\c5\\fe\\9c\\73ec50028e6e9e68ff736594e8a51468f9e85e87f7482c50f2\n",
      "Successfully built montecarlo\n",
      "Installing collected packages: montecarlo\n",
      "Successfully installed montecarlo-1.0.0\n",
      "Note: you may need to restart the kernel to use updated packages.\n"
     ]
    },
    {
     "name": "stderr",
     "output_type": "stream",
     "text": [
      "  DEPRECATION: A future pip version will change local packages to be built in-place without first copying to a temporary directory. We recommend you use --use-feature=in-tree-build to test your packages with this new behavior before it becomes the default.\n",
      "   pip 21.3 will remove support for this functionality. You can find discussion regarding this at https://github.com/pypa/pip/issues/7555.\n"
     ]
    }
   ],
   "source": [
    "pip install ."
   ]
  }
 ],
 "metadata": {
  "kernelspec": {
   "display_name": "Python 3 (ipykernel)",
   "language": "python",
   "name": "python3"
  },
  "language_info": {
   "codemirror_mode": {
    "name": "ipython",
    "version": 3
   },
   "file_extension": ".py",
   "mimetype": "text/x-python",
   "name": "python",
   "nbconvert_exporter": "python",
   "pygments_lexer": "ipython3",
   "version": "3.9.12"
  },
  "widgets": {
   "application/vnd.jupyter.widget-state+json": {
    "state": {},
    "version_major": 2,
    "version_minor": 0
   }
  }
 },
 "nbformat": 4,
 "nbformat_minor": 5
}
